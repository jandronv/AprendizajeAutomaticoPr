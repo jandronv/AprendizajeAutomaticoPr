{
 "cells": [
  {
   "cell_type": "markdown",
   "id": "d9a50034",
   "metadata": {},
   "source": [
    "# Series Temporales"
   ]
  },
  {
   "cell_type": "code",
   "execution_count": 3,
   "id": "eb696af8",
   "metadata": {},
   "outputs": [
    {
     "name": "stdout",
     "output_type": "stream",
     "text": [
      "Setup Complete\n"
     ]
    }
   ],
   "source": [
    "import numpy as np\n",
    "import matplotlib.pyplot as plt\n",
    "import seaborn as sns\n",
    "import pandas as pd\n",
    "\n",
    "from sklearn.preprocessing import MinMaxScaler\n",
    "from tensorflow import keras\n",
    "from keras.layers import Conv1D, LSTM, Dense, Dropout\n",
    "from keras.models import Sequential\n",
    "\n",
    "from tensorflow.keras.optimizers import SGD\n",
    "\n",
    "print(\"Setup Complete\")"
   ]
  },
  {
   "cell_type": "markdown",
   "id": "afe21b61",
   "metadata": {},
   "source": [
    "# Predicción del valor del oro en bolsa\n",
    "\n",
    "Dataset obtenido de [Kaggle](https://www.kaggle.com/datasets/psycon/daily-gold-price-historical-data) \n",
    "\n",
    "Este dataset contiene el valor del oro desde el año 2000 al 2022.\n",
    "\n",
    "El dataset contiene:\n",
    "* ```Open``` Precio de apertura del día\n",
    "* ```High``` Precio más alto del día\n",
    "* ```Low``` Precio más bajo del día\n",
    "* ```Close```  Precio de cierre día\n",
    "* ```Volume``` Volumen de transacciones\n",
    "* ```Currency``` Moneda\n"
   ]
  },
  {
   "cell_type": "code",
   "execution_count": 4,
   "id": "568a9865",
   "metadata": {},
   "outputs": [],
   "source": [
    "df = pd.read_csv(\"gold.csv\", index_col='Date', parse_dates=['Date'])"
   ]
  },
  {
   "cell_type": "code",
   "execution_count": 4,
   "id": "e0a72970",
   "metadata": {},
   "outputs": [
    {
     "name": "stdout",
     "output_type": "stream",
     "text": [
      "<class 'pandas.core.frame.DataFrame'>\n",
      "DatetimeIndex: 5706 entries, 2000-01-04 to 2022-04-20\n",
      "Data columns (total 6 columns):\n",
      " #   Column    Non-Null Count  Dtype  \n",
      "---  ------    --------------  -----  \n",
      " 0   Open      5706 non-null   float64\n",
      " 1   High      5706 non-null   float64\n",
      " 2   Low       5706 non-null   float64\n",
      " 3   Close     5706 non-null   float64\n",
      " 4   Volume    5706 non-null   int64  \n",
      " 5   Currency  5706 non-null   object \n",
      "dtypes: float64(4), int64(1), object(1)\n",
      "memory usage: 312.0+ KB\n"
     ]
    }
   ],
   "source": [
    "df.info()"
   ]
  },
  {
   "cell_type": "markdown",
   "id": "3d65caf8",
   "metadata": {},
   "source": [
    "No tenemos variables nulas. No hace falta aplicar ninguna técnica de para ello. Si fuera necesario, según la distribución de los datos, se podría aplicar técnicas como la media, la mediana o KNN."
   ]
  },
  {
   "cell_type": "code",
   "execution_count": 33,
   "id": "9b4fdea9",
   "metadata": {},
   "outputs": [
    {
     "data": {
      "text/html": [
       "<div>\n",
       "<style scoped>\n",
       "    .dataframe tbody tr th:only-of-type {\n",
       "        vertical-align: middle;\n",
       "    }\n",
       "\n",
       "    .dataframe tbody tr th {\n",
       "        vertical-align: top;\n",
       "    }\n",
       "\n",
       "    .dataframe thead th {\n",
       "        text-align: right;\n",
       "    }\n",
       "</style>\n",
       "<table border=\"1\" class=\"dataframe\">\n",
       "  <thead>\n",
       "    <tr style=\"text-align: right;\">\n",
       "      <th></th>\n",
       "      <th>Open</th>\n",
       "      <th>High</th>\n",
       "      <th>Low</th>\n",
       "      <th>Close</th>\n",
       "      <th>Volume</th>\n",
       "      <th>Currency</th>\n",
       "    </tr>\n",
       "    <tr>\n",
       "      <th>Date</th>\n",
       "      <th></th>\n",
       "      <th></th>\n",
       "      <th></th>\n",
       "      <th></th>\n",
       "      <th></th>\n",
       "      <th></th>\n",
       "    </tr>\n",
       "  </thead>\n",
       "  <tbody>\n",
       "    <tr>\n",
       "      <th>2022-04-13</th>\n",
       "      <td>1970.5</td>\n",
       "      <td>1985.80</td>\n",
       "      <td>1966.3</td>\n",
       "      <td>1984.7</td>\n",
       "      <td>132029</td>\n",
       "      <td>USD</td>\n",
       "    </tr>\n",
       "    <tr>\n",
       "      <th>2022-04-14</th>\n",
       "      <td>1981.6</td>\n",
       "      <td>1984.00</td>\n",
       "      <td>1962.7</td>\n",
       "      <td>1974.9</td>\n",
       "      <td>139424</td>\n",
       "      <td>USD</td>\n",
       "    </tr>\n",
       "    <tr>\n",
       "      <th>2022-04-18</th>\n",
       "      <td>1978.5</td>\n",
       "      <td>2003.00</td>\n",
       "      <td>1974.4</td>\n",
       "      <td>1986.4</td>\n",
       "      <td>138130</td>\n",
       "      <td>USD</td>\n",
       "    </tr>\n",
       "    <tr>\n",
       "      <th>2022-04-19</th>\n",
       "      <td>1981.2</td>\n",
       "      <td>1985.10</td>\n",
       "      <td>1945.5</td>\n",
       "      <td>1959.0</td>\n",
       "      <td>181440</td>\n",
       "      <td>USD</td>\n",
       "    </tr>\n",
       "    <tr>\n",
       "      <th>2022-04-20</th>\n",
       "      <td>1952.1</td>\n",
       "      <td>1957.35</td>\n",
       "      <td>1941.2</td>\n",
       "      <td>1956.3</td>\n",
       "      <td>0</td>\n",
       "      <td>USD</td>\n",
       "    </tr>\n",
       "  </tbody>\n",
       "</table>\n",
       "</div>"
      ],
      "text/plain": [
       "              Open     High     Low   Close  Volume Currency\n",
       "Date                                                        \n",
       "2022-04-13  1970.5  1985.80  1966.3  1984.7  132029      USD\n",
       "2022-04-14  1981.6  1984.00  1962.7  1974.9  139424      USD\n",
       "2022-04-18  1978.5  2003.00  1974.4  1986.4  138130      USD\n",
       "2022-04-19  1981.2  1985.10  1945.5  1959.0  181440      USD\n",
       "2022-04-20  1952.1  1957.35  1941.2  1956.3       0      USD"
      ]
     },
     "execution_count": 33,
     "metadata": {},
     "output_type": "execute_result"
    }
   ],
   "source": [
    "df.tail()"
   ]
  },
  {
   "cell_type": "code",
   "execution_count": 31,
   "id": "94b46ef6",
   "metadata": {},
   "outputs": [],
   "source": [
    "#Ajustamos el dataset para facilitar pintarlo\n",
    "df_ = df.drop(['Volume','Currency'], axis=1)"
   ]
  },
  {
   "cell_type": "code",
   "execution_count": 32,
   "id": "f07e6b02",
   "metadata": {},
   "outputs": [
    {
     "data": {
      "text/html": [
       "<div>\n",
       "<style scoped>\n",
       "    .dataframe tbody tr th:only-of-type {\n",
       "        vertical-align: middle;\n",
       "    }\n",
       "\n",
       "    .dataframe tbody tr th {\n",
       "        vertical-align: top;\n",
       "    }\n",
       "\n",
       "    .dataframe thead th {\n",
       "        text-align: right;\n",
       "    }\n",
       "</style>\n",
       "<table border=\"1\" class=\"dataframe\">\n",
       "  <thead>\n",
       "    <tr style=\"text-align: right;\">\n",
       "      <th></th>\n",
       "      <th>Open</th>\n",
       "      <th>High</th>\n",
       "      <th>Low</th>\n",
       "      <th>Close</th>\n",
       "    </tr>\n",
       "    <tr>\n",
       "      <th>Date</th>\n",
       "      <th></th>\n",
       "      <th></th>\n",
       "      <th></th>\n",
       "      <th></th>\n",
       "    </tr>\n",
       "  </thead>\n",
       "  <tbody>\n",
       "    <tr>\n",
       "      <th>2000-01-04</th>\n",
       "      <td>281.0</td>\n",
       "      <td>281.0</td>\n",
       "      <td>281.0</td>\n",
       "      <td>282.7</td>\n",
       "    </tr>\n",
       "    <tr>\n",
       "      <th>2000-01-05</th>\n",
       "      <td>283.2</td>\n",
       "      <td>283.2</td>\n",
       "      <td>283.2</td>\n",
       "      <td>281.1</td>\n",
       "    </tr>\n",
       "    <tr>\n",
       "      <th>2000-01-06</th>\n",
       "      <td>281.4</td>\n",
       "      <td>281.4</td>\n",
       "      <td>281.4</td>\n",
       "      <td>281.4</td>\n",
       "    </tr>\n",
       "    <tr>\n",
       "      <th>2000-01-07</th>\n",
       "      <td>281.9</td>\n",
       "      <td>281.9</td>\n",
       "      <td>281.9</td>\n",
       "      <td>281.9</td>\n",
       "    </tr>\n",
       "    <tr>\n",
       "      <th>2000-01-10</th>\n",
       "      <td>281.7</td>\n",
       "      <td>281.7</td>\n",
       "      <td>281.7</td>\n",
       "      <td>281.7</td>\n",
       "    </tr>\n",
       "  </tbody>\n",
       "</table>\n",
       "</div>"
      ],
      "text/plain": [
       "             Open   High    Low  Close\n",
       "Date                                  \n",
       "2000-01-04  281.0  281.0  281.0  282.7\n",
       "2000-01-05  283.2  283.2  283.2  281.1\n",
       "2000-01-06  281.4  281.4  281.4  281.4\n",
       "2000-01-07  281.9  281.9  281.9  281.9\n",
       "2000-01-10  281.7  281.7  281.7  281.7"
      ]
     },
     "execution_count": 32,
     "metadata": {},
     "output_type": "execute_result"
    }
   ],
   "source": [
    "df_.head()"
   ]
  },
  {
   "cell_type": "markdown",
   "id": "b2e21ba7",
   "metadata": {},
   "source": [
    "# Visualización de la serie"
   ]
  },
  {
   "cell_type": "code",
   "execution_count": 63,
   "id": "6fa3e592",
   "metadata": {},
   "outputs": [],
   "source": [
    "df_ = df_.melt('Date', var_name='cols', value_name='vals')"
   ]
  },
  {
   "cell_type": "code",
   "execution_count": 37,
   "id": "867db629",
   "metadata": {},
   "outputs": [
    {
     "data": {
      "image/png": "[encoded data removed]",
      "text/plain": [
       "<Figure size 432x288 with 1 Axes>"
      ]
     },
     "metadata": {
      "needs_background": "light"
     },
     "output_type": "display_data"
    }
   ],
   "source": [
    "g = sns.lineplot(x=\"Date\", y=\"vals\", hue='cols', data=df_)"
   ]
  },
  {
   "cell_type": "code",
   "execution_count": 25,
   "id": "36637443",
   "metadata": {},
   "outputs": [
    {
     "name": "stderr",
     "output_type": "stream",
     "text": [
      "C:\\Users\\Alejandro\\anaconda3\\envs\\python36\\lib\\site-packages\\ipykernel_launcher.py:3: FutureWarning: the 'freq'' keyword is deprecated, use 'period' instead\n",
      "  This is separate from the ipykernel package so we can avoid doing imports until\n"
     ]
    },
    {
     "data": {
      "text/plain": [
       "<Figure size 432x288 with 0 Axes>"
      ]
     },
     "metadata": {},
     "output_type": "display_data"
    },
    {
     "data": {
      "image/png": "[encoded data removed]",
      "text/plain": [
       "<Figure size 1296x648 with 4 Axes>"
      ]
     },
     "metadata": {
      "needs_background": "light"
     },
     "output_type": "display_data"
    }
   ],
   "source": [
    "from statsmodels.tsa.seasonal import seasonal_decompose\n",
    "\n",
    "result = seasonal_decompose(x=df['High'],model='additive', freq=1)\n",
    "fig = plt.figure()\n",
    "fig = result.plot()  \n",
    "fig.set_size_inches(18, 9);"
   ]
  },
  {
   "cell_type": "markdown",
   "id": "d4f6b41a",
   "metadata": {},
   "source": [
    "* No se aprecia influencia en ciertos periodos de tiempo en los valores. \n",
    "* Se aprecia una tendencia de aumento del valor\n",
    "* No se aprecian outlayers"
   ]
  },
  {
   "cell_type": "markdown",
   "id": "14e247db",
   "metadata": {},
   "source": [
    "Creación de los datos de entrenamientos. Vamos a utilizar la variable ```High``` para la predicción. Como se aprecia en la gráfica son bastante parecidos los datos de las columnas."
   ]
  },
  {
   "cell_type": "code",
   "execution_count": 5,
   "id": "1a7850a7",
   "metadata": {},
   "outputs": [],
   "source": [
    "set_train = df[:'2016'].iloc[:,1:2]"
   ]
  },
  {
   "cell_type": "code",
   "execution_count": 90,
   "id": "ebc6ea25",
   "metadata": {},
   "outputs": [
    {
     "name": "stdout",
     "output_type": "stream",
     "text": [
      "<class 'pandas.core.frame.DataFrame'>\n",
      "DatetimeIndex: 4304 entries, 2000-01-04 to 2016-12-30\n",
      "Data columns (total 1 columns):\n",
      " #   Column  Non-Null Count  Dtype  \n",
      "---  ------  --------------  -----  \n",
      " 0   High    4304 non-null   float64\n",
      "dtypes: float64(1)\n",
      "memory usage: 67.2 KB\n"
     ]
    }
   ],
   "source": [
    "set_train.info()"
   ]
  },
  {
   "cell_type": "code",
   "execution_count": 6,
   "id": "4a8f9f26",
   "metadata": {},
   "outputs": [],
   "source": [
    "set_test = df['2017':].iloc[:,1:2]"
   ]
  },
  {
   "cell_type": "code",
   "execution_count": 92,
   "id": "a63d005e",
   "metadata": {},
   "outputs": [
    {
     "name": "stdout",
     "output_type": "stream",
     "text": [
      "<class 'pandas.core.frame.DataFrame'>\n",
      "DatetimeIndex: 1402 entries, 2017-01-02 to 2022-04-20\n",
      "Data columns (total 1 columns):\n",
      " #   Column  Non-Null Count  Dtype  \n",
      "---  ------  --------------  -----  \n",
      " 0   High    1402 non-null   float64\n",
      "dtypes: float64(1)\n",
      "memory usage: 21.9 KB\n"
     ]
    }
   ],
   "source": [
    "set_test.info()"
   ]
  },
  {
   "cell_type": "markdown",
   "id": "1127c617",
   "metadata": {},
   "source": [
    "Escalamos los datos para el entrenamiento de la red LTSM"
   ]
  },
  {
   "cell_type": "code",
   "execution_count": 7,
   "id": "bef3ff49",
   "metadata": {},
   "outputs": [],
   "source": [
    "sc = MinMaxScaler(feature_range=(0,1))\n",
    "set_train_sc = sc.fit_transform(set_train)"
   ]
  },
  {
   "cell_type": "code",
   "execution_count": 8,
   "id": "3c32a158",
   "metadata": {},
   "outputs": [],
   "source": [
    "#Ventana de tamaño 100\n",
    "time_step = 100\n",
    "X_train = []\n",
    "Y_train = []\n",
    "m = len(set_train_sc)\n",
    "\n",
    "#Recorremos el dataset para crear las ventanas de tamaño 100 y la variable a predecir la 101\n",
    "for i in range(time_step,m):\n",
    "    X_train.append(set_train_sc[i-time_step:i,0])\n",
    "    Y_train.append(set_train_sc[i,0])\n",
    "\n",
    "X_train, Y_train = np.array(X_train), np.array(Y_train)\n",
    "\n",
    "# Reshape X_train para que se ajuste al modelo en Keras\n",
    "X_train = np.reshape(X_train, (X_train.shape[0], X_train.shape[1], 1))"
   ]
  },
  {
   "cell_type": "markdown",
   "id": "264045b1",
   "metadata": {},
   "source": [
    "# Creación de la LTSM"
   ]
  },
  {
   "cell_type": "code",
   "execution_count": 9,
   "id": "364dc3ee",
   "metadata": {},
   "outputs": [
    {
     "name": "stdout",
     "output_type": "stream",
     "text": [
      "Model: \"sequential_1\"\n",
      "_________________________________________________________________\n",
      "Layer (type)                 Output Shape              Param #   \n",
      "=================================================================\n",
      "conv1d_1 (Conv1D)            (None, None, 60)          360       \n",
      "_________________________________________________________________\n",
      "lstm_1 (LSTM)                (None, None, 50)          22200     \n",
      "_________________________________________________________________\n",
      "dropout_1 (Dropout)          (None, None, 50)          0         \n",
      "_________________________________________________________________\n",
      "lstm_2 (LSTM)                (None, 50)                20200     \n",
      "_________________________________________________________________\n",
      "dense_1 (Dense)              (None, 1)                 51        \n",
      "=================================================================\n",
      "Total params: 42,811\n",
      "Trainable params: 42,811\n",
      "Non-trainable params: 0\n",
      "_________________________________________________________________\n"
     ]
    }
   ],
   "source": [
    "dim_entrada = (X_train.shape[1],1)\n",
    "dim_salida = 1\n",
    "units = 50\n",
    "\n",
    "modelo_ltsm = Sequential()\n",
    "modelo_ltsm.add(Conv1D(filters=60, kernel_size=5, strides=1, padding='causal', activation='relu', input_shape=[None, 1]))\n",
    "modelo_ltsm.add(LSTM(units=units, input_shape=dim_entrada, return_sequences=True))\n",
    "#Aplicamos Dropout para reducir el overfiting\n",
    "modelo_ltsm.add(Dropout(0.20))\n",
    "modelo_ltsm.add(LSTM(units=units))\n",
    "modelo_ltsm.add(Dense(units=dim_salida))\n",
    "\n",
    "modelo_ltsm.compile(optimizer='rmsprop', loss='mse')\n",
    "modelo_ltsm.summary()\n"
   ]
  },
  {
   "cell_type": "code",
   "execution_count": 10,
   "id": "562023a6",
   "metadata": {},
   "outputs": [
    {
     "name": "stdout",
     "output_type": "stream",
     "text": [
      "Epoch 1/20\n",
      "4204/4204 [==============================] - 8s 2ms/step - loss: 0.0064\n",
      "Epoch 2/20\n",
      "4204/4204 [==============================] - 8s 2ms/step - loss: 0.0024\n",
      "Epoch 3/20\n",
      "4204/4204 [==============================] - 8s 2ms/step - loss: 0.0020\n",
      "Epoch 4/20\n",
      "4204/4204 [==============================] - 8s 2ms/step - loss: 0.0016\n",
      "Epoch 5/20\n",
      "4204/4204 [==============================] - 8s 2ms/step - loss: 0.0014\n",
      "Epoch 6/20\n",
      "4204/4204 [==============================] - 8s 2ms/step - loss: 0.0013\n",
      "Epoch 7/20\n",
      "4204/4204 [==============================] - 8s 2ms/step - loss: 0.0011\n",
      "Epoch 8/20\n",
      "4204/4204 [==============================] - 8s 2ms/step - loss: 0.0010\n",
      "Epoch 9/20\n",
      "4204/4204 [==============================] - 8s 2ms/step - loss: 9.2749e-04\n",
      "Epoch 10/20\n",
      "4204/4204 [==============================] - 8s 2ms/step - loss: 9.1710e-04\n",
      "Epoch 11/20\n",
      "4204/4204 [==============================] - 8s 2ms/step - loss: 8.2523e-04\n",
      "Epoch 12/20\n",
      "4204/4204 [==============================] - 8s 2ms/step - loss: 7.9224e-04\n",
      "Epoch 13/20\n",
      "4204/4204 [==============================] - 8s 2ms/step - loss: 7.5583e-04\n",
      "Epoch 14/20\n",
      "4204/4204 [==============================] - 8s 2ms/step - loss: 7.3233e-04\n",
      "Epoch 15/20\n",
      "4204/4204 [==============================] - 8s 2ms/step - loss: 6.6966e-04\n",
      "Epoch 16/20\n",
      "4204/4204 [==============================] - 8s 2ms/step - loss: 6.5209e-04\n",
      "Epoch 17/20\n",
      "4204/4204 [==============================] - 8s 2ms/step - loss: 6.1434e-04\n",
      "Epoch 18/20\n",
      "4204/4204 [==============================] - 8s 2ms/step - loss: 5.7686e-04\n",
      "Epoch 19/20\n",
      "4204/4204 [==============================] - 8s 2ms/step - loss: 5.9945e-04\n",
      "Epoch 20/20\n",
      "4204/4204 [==============================] - 8s 2ms/step - loss: 5.4964e-04\n"
     ]
    }
   ],
   "source": [
    "history = modelo_ltsm.fit(X_train,Y_train,epochs=20,batch_size=32)"
   ]
  },
  {
   "cell_type": "code",
   "execution_count": 99,
   "id": "7a818c6b",
   "metadata": {},
   "outputs": [
    {
     "data": {
      "text/plain": [
       "<Figure size 432x288 with 0 Axes>"
      ]
     },
     "execution_count": 99,
     "metadata": {},
     "output_type": "execute_result"
    },
    {
     "data": {
      "image/png": "[encoded data removed]",
      "text/plain": [
       "<Figure size 432x288 with 1 Axes>"
      ]
     },
     "metadata": {
      "needs_background": "light"
     },
     "output_type": "display_data"
    },
    {
     "data": {
      "text/plain": [
       "<Figure size 432x288 with 0 Axes>"
      ]
     },
     "metadata": {},
     "output_type": "display_data"
    }
   ],
   "source": [
    "# Recuperar una lista de resultados de la lista de datos de entrenamiento y pruebas para cada epoch de entrenamiento\n",
    "loss=history.history['loss']\n",
    "\n",
    "epochs=range(len(loss))\n",
    "\n",
    "# Pérdida de entrenamiento y validación por epoch\n",
    "plt.plot(epochs, loss, 'r')\n",
    "plt.title('Training loss')\n",
    "plt.xlabel(\"Epochs\")\n",
    "plt.ylabel(\"Loss\")\n",
    "plt.legend([\"Loss\"])\n",
    "\n",
    "plt.figure()\n"
   ]
  },
  {
   "cell_type": "markdown",
   "id": "180855c4",
   "metadata": {},
   "source": [
    "Vemos como el valor de la perdida disminuye durante el entrenamiento"
   ]
  },
  {
   "cell_type": "code",
   "execution_count": 11,
   "id": "52dcf7fa",
   "metadata": {},
   "outputs": [],
   "source": [
    "# Validación (predicción del valor de las acciones)\n",
    "x_test = set_test.values\n",
    "x_test = sc.transform(x_test)\n",
    "\n",
    "# Recorremos el set de validación para dividirlo en el tamaño de la ventana\n",
    "X_test = []\n",
    "for i in range(time_step,len(x_test)):\n",
    "    X_test.append(x_test[i-time_step:i,0])\n",
    "  \n",
    "X_test = np.array(X_test)\n",
    "X_test = np.reshape(X_test, (X_test.shape[0],X_test.shape[1],1))\n",
    "\n",
    "predicted = modelo_ltsm.predict(X_test)\n",
    "predicted = sc.inverse_transform(predicted)"
   ]
  },
  {
   "cell_type": "markdown",
   "id": "c7fe5b0b",
   "metadata": {},
   "source": [
    "# Resultados"
   ]
  },
  {
   "cell_type": "code",
   "execution_count": 14,
   "id": "28b00cac",
   "metadata": {},
   "outputs": [
    {
     "data": {
      "image/png": "[encoded data removed]",
      "text/plain": [
       "<Figure size 432x288 with 1 Axes>"
      ]
     },
     "metadata": {
      "needs_background": "light"
     },
     "output_type": "display_data"
    }
   ],
   "source": [
    "plt.plot(set_test.values,color='blue', label='Valor real del oro')\n",
    "plt.plot(predicted, color='red', label='Predicción')\n",
    "plt.xlabel('Tiempo')\n",
    "plt.ylabel('Valor')\n",
    "plt.legend()\n",
    "plt.show()\n"
   ]
  },
  {
   "cell_type": "code",
   "execution_count": 111,
   "id": "13775653",
   "metadata": {},
   "outputs": [
    {
     "name": "stdout",
     "output_type": "stream",
     "text": [
      "MAE:  99.35788703977055\n",
      "RSME:  122.98669614676244\n"
     ]
    }
   ],
   "source": [
    "from sklearn.metrics import mean_absolute_error, mean_squared_error\n",
    "\n",
    "\n",
    "print('MAE: ', mean_absolute_error(set_test.values[:predicted.shape[0]], predicted)) \n",
    "\n",
    "print('RSME: ',  mean_squared_error(set_test.values[:predicted.shape[0]], predicted, squared=False))"
   ]
  },
  {
   "cell_type": "markdown",
   "id": "125b08dc",
   "metadata": {},
   "source": [
    "Vemos como en la grafica el modelo se logra ajustar a la tendencia de la serie. Con un MAE y RSME aceptables comparados con el valor "
   ]
  },
  {
   "cell_type": "markdown",
   "id": "7b816adb",
   "metadata": {},
   "source": [
    "# Predicción de futuro"
   ]
  },
  {
   "cell_type": "code",
   "execution_count": 12,
   "id": "c7b98f8e",
   "metadata": {},
   "outputs": [],
   "source": [
    "#Agregamos la nueva salida a la serie\n",
    "timestep = 100\n",
    "def insert_end(Xin,new_input):\n",
    "    for i in range(timestep-1):\n",
    "        Xin[:,i,:] = Xin[:,i+1,:]\n",
    "    Xin[:,timestep-1,:] = new_input\n",
    "    return Xin"
   ]
  },
  {
   "cell_type": "code",
   "execution_count": 28,
   "id": "4be64de0",
   "metadata": {},
   "outputs": [],
   "source": [
    "#Generamos las nuevas predicciones\n",
    "future = 100\n",
    "forcast = [] \n",
    "Xin = X_test[-1:]\n",
    "for i in range(future):\n",
    "    out = modelo_ltsm.predict(Xin, batch_size=1)    \n",
    "    forcast.append(out[0,0]) \n",
    "    Xin = insert_end(Xin,out[0,0])"
   ]
  },
  {
   "cell_type": "code",
   "execution_count": 29,
   "id": "93411cef",
   "metadata": {},
   "outputs": [],
   "source": [
    "forcasted_output = np.asanyarray(forcast)   \n",
    "forcasted_output = forcasted_output.reshape(-1,1) \n",
    "forcasted_output = sc.inverse_transform(forcasted_output) \n",
    "\n",
    "forcasted_output = pd.DataFrame(forcasted_output)\n",
    "date = pd.DataFrame(pd.date_range(start='2022-03-21',periods=100,freq='D'))\n",
    "df_result = pd.concat([date,forcasted_output],axis=1)\n",
    "df_result.columns = \"Date\",\"Forecasted\""
   ]
  },
  {
   "cell_type": "code",
   "execution_count": 30,
   "id": "845d881b",
   "metadata": {},
   "outputs": [
    {
     "data": {
      "image/png": "[encoded data removed]",
      "text/plain": [
       "<Figure size 1152x432 with 1 Axes>"
      ]
     },
     "metadata": {
      "needs_background": "light"
     },
     "output_type": "display_data"
    }
   ],
   "source": [
    "plt.figure(figsize=(16,6))\n",
    "plt.plot(df_result.set_index('Date')[['Forecasted']]);"
   ]
  },
  {
   "cell_type": "markdown",
   "id": "9ec9b92c",
   "metadata": {},
   "source": [
    "El limite del valor del oro nos indica un futuro improbable para ventanas muy grandes de tiempo."
   ]
  }
 ],
 "metadata": {
  "kernelspec": {
   "display_name": "Python 3",
   "language": "python",
   "name": "python3"
  },
  "language_info": {
   "codemirror_mode": {
    "name": "ipython",
    "version": 3
   },
   "file_extension": ".py",
   "mimetype": "text/x-python",
   "name": "python",
   "nbconvert_exporter": "python",
   "pygments_lexer": "ipython3",
   "version": "3.6.13"
  }
 },
 "nbformat": 4,
 "nbformat_minor": 5
}
