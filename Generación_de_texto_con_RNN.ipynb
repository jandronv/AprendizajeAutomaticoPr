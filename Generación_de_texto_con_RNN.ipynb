{
  "nbformat": 4,
  "nbformat_minor": 5,
  "metadata": {
    "kernelspec": {
      "display_name": "Python 3",
      "language": "python",
      "name": "python3"
    },
    "language_info": {
      "codemirror_mode": {
        "name": "ipython",
        "version": 3
      },
      "file_extension": ".py",
      "mimetype": "text/x-python",
      "name": "python",
      "nbconvert_exporter": "python",
      "pygments_lexer": "ipython3",
      "version": "3.8.5"
    },
    "colab": {
      "name": "Generación de texto con RNN.ipynb",
      "provenance": [],
      "collapsed_sections": []
    },
    "accelerator": "TPU"
  },
  "cells": [
    {
      "cell_type": "code",
      "metadata": {
        "id": "starting-kitchen"
      },
      "source": [
        "import numpy as np\n",
        "np.random.seed(5) #Garantizamos volver a producir el entrenamiento\n",
        "\n",
        "from keras.layers import Input, Dense, SimpleRNN\n",
        "from keras.models import Model\n",
        "from tensorflow.keras.optimizers import SGD\n",
        "from tensorflow.keras.utils import to_categorical\n",
        "from keras import backend as K"
      ],
      "id": "starting-kitchen",
      "execution_count": 12,
      "outputs": []
    },
    {
      "cell_type": "code",
      "metadata": {
        "id": "generic-pasta"
      },
      "source": [
        "#Cargamos el dataset con los nombres\n",
        "nombres = open('sample_data/nombre_dinosaurios.txt','r').read()\n",
        "nombres = nombres.lower()"
      ],
      "id": "generic-pasta",
      "execution_count": 13,
      "outputs": []
    },
    {
      "cell_type": "code",
      "metadata": {
        "id": "commercial-judgment",
        "colab": {
          "base_uri": "https://localhost:8080/"
        },
        "outputId": "625efeab-519d-45b7-8474-13070c8e7340"
      },
      "source": [
        "#Creamos una codificación onehot encoding para el entrenamiento\n",
        "\n",
        "#Para ello creamos un alfabeto con todos los caractere \n",
        "#de nuestra lista de nombres\n",
        "alfabeto = list(set(nombres))\n",
        "tam_datos, tam_alfabeto = len(nombres), len(alfabeto)\n",
        "\n",
        "print(alfabeto)"
      ],
      "id": "commercial-judgment",
      "execution_count": 14,
      "outputs": [
        {
          "output_type": "stream",
          "name": "stdout",
          "text": [
            "['g', 'f', 'v', 'k', 'b', 't', 'l', 'z', 'n', 'w', 'i', 's', 'p', 'e', 'm', 'u', 'c', 'y', 'h', 'a', 'q', 'x', 'd', 'j', 'r', 'o', '\\n']\n"
          ]
        }
      ]
    },
    {
      "cell_type": "markdown",
      "metadata": {
        "id": "wrong-title"
      },
      "source": [
        "# Ejemplo de codificación onehot\n",
        "Para la letra 'k' tendriamos la siguietne codificación\n",
        "\n",
        "[e,\\n,k,y,c,x,l,r,f,z,j,b,q,i,d,s,n,v,w,u,p,g,a,h,o,t,m]\n",
        "\n",
        "[0,0,1,0,0,0,0,0,0,0,0,0,0,0,0,0,0,0,0,0,0,0,0,0,0,0,0,]\n",
        "\n",
        "El indice de la posición del caracter representará la letra."
      ],
      "id": "wrong-title"
    },
    {
      "cell_type": "code",
      "metadata": {
        "id": "packed-budapest"
      },
      "source": [
        "#Ahora creamos los diccionariosa necesarios\n",
        "char_to_ind = {char:ind for ind,char in enumerate(sorted(alfabeto))}\n",
        "\n",
        "ind_to_char = {ind:char for ind,char in enumerate(sorted(alfabeto))}\n"
      ],
      "id": "packed-budapest",
      "execution_count": 15,
      "outputs": []
    },
    {
      "cell_type": "markdown",
      "metadata": {
        "id": "elect-brief"
      },
      "source": [
        "# Creación de la arquitectura RNN"
      ],
      "id": "elect-brief"
    },
    {
      "cell_type": "code",
      "metadata": {
        "id": "retired-designation",
        "colab": {
          "base_uri": "https://localhost:8080/"
        },
        "outputId": "95ab7d79-d8f8-423a-92c4-06f61192c7e6"
      },
      "source": [
        "#Neuronas capa oculta\n",
        "n_a = 25\n",
        "#None nos permite nombres de entradas variables\n",
        "input_layer = Input(shape=(None, tam_alfabeto))\n",
        "\n",
        "layer_0 = Input(shape=(n_a,))\n",
        "\n",
        "#Para que a la salida nos devuelva el nuevo estado oculto actualizado\n",
        "recurrent_layer = SimpleRNN(n_a, activation='tanh', return_state=True)\n",
        "\n",
        "output_layer = Dense(tam_alfabeto, activation='softmax')\n",
        "\n",
        "hs, _ = recurrent_layer(input_layer, initial_state=layer_0)\n",
        "output = []\n",
        "output.append(output_layer(hs))\n",
        "#Definimos las dos entradas, el caracter actual y el estado oculto anterior\n",
        "model = Model([input_layer,layer_0], output)\n",
        "\n",
        "opt = SGD(lr=0.0005)\n",
        "model.compile(optimizer=opt, loss='categorical_crossentropy')\n"
      ],
      "id": "retired-designation",
      "execution_count": 16,
      "outputs": [
        {
          "output_type": "stream",
          "name": "stderr",
          "text": [
            "/usr/local/lib/python3.7/dist-packages/keras/optimizer_v2/gradient_descent.py:102: UserWarning: The `lr` argument is deprecated, use `learning_rate` instead.\n",
            "  super(SGD, self).__init__(name, **kwargs)\n"
          ]
        }
      ]
    },
    {
      "cell_type": "markdown",
      "metadata": {
        "id": "complex-findings"
      },
      "source": [
        "# Entrenamiento recurrente\n"
      ],
      "id": "complex-findings"
    },
    {
      "cell_type": "code",
      "metadata": {
        "id": "copyrighted-verification"
      },
      "source": [
        "with open(\"sample_data/nombre_dinosaurios.txt\") as f:\n",
        "    ejemplos = f.readlines()\n",
        "ejemplos = [x.lower().strip() for x in ejemplos]\n",
        "np.random.shuffle(ejemplos)"
      ],
      "id": "copyrighted-verification",
      "execution_count": 18,
      "outputs": []
    },
    {
      "cell_type": "code",
      "metadata": {
        "id": "french-detroit"
      },
      "source": [
        "def train_generator():\n",
        "    while True:\n",
        "        # Tomar un ejemplo aleatorio\n",
        "        ejemplo = ejemplos[np.random.randint(0,len(ejemplos))]\n",
        "\n",
        "        # Convertir el ejemplo a representación numérica\n",
        "        X = [None] + [char_to_ind[c] for c in ejemplo]\n",
        "\n",
        "        # Crear \"Y\", resultado de desplazar \"X\" un caracter a la derecha\n",
        "        Y = X[1:] + [char_to_ind['\\n']]\n",
        "\n",
        "        # Representar \"X\" y \"Y\" en formato one-hot\n",
        "        x = np.zeros((len(X),1,tam_alfabeto))\n",
        "        onehot = to_categorical(X[1:],tam_alfabeto).reshape(len(X)-1,1,tam_alfabeto)\n",
        "        x[1:,:,:] = onehot\n",
        "        y = to_categorical(Y,tam_alfabeto).reshape(len(X),tam_alfabeto)\n",
        "\n",
        "        # Activación inicial (matriz de ceros)\n",
        "        a = np.zeros((len(X), n_a))\n",
        "\n",
        "        yield [x, a], y"
      ],
      "id": "french-detroit",
      "execution_count": 19,
      "outputs": []
    },
    {
      "cell_type": "code",
      "metadata": {
        "id": "divine-elephant",
        "colab": {
          "base_uri": "https://localhost:8080/"
        },
        "outputId": "2c198f63-f2e4-4b07-d053-bab91bebc334"
      },
      "source": [
        "BATCH_SIZE = 80 # Número de ejemplos de entrenamiento a usar en cada iteración\n",
        "NITS = 10000 # Número de iteraciones\n",
        "\n",
        "for j in range(NITS):\n",
        "    historia = model.fit_generator(train_generator(), steps_per_epoch=BATCH_SIZE, epochs=1, verbose=0)\n",
        "\n",
        "    # Imprimir evolución del entrenamiento cada 1000 iteraciones\n",
        "    if j%1000 == 0:\n",
        "        print('\\nIteración: %d, Error: %f' % (j, historia.history['loss'][0]) + '\\n')"
      ],
      "id": "divine-elephant",
      "execution_count": 20,
      "outputs": [
        {
          "output_type": "stream",
          "name": "stderr",
          "text": [
            "/usr/local/lib/python3.7/dist-packages/ipykernel_launcher.py:5: UserWarning: `Model.fit_generator` is deprecated and will be removed in a future version. Please use `Model.fit`, which supports generators.\n",
            "  \"\"\"\n"
          ]
        },
        {
          "output_type": "stream",
          "name": "stdout",
          "text": [
            "\n",
            "Iteración: 0, Error: 3.287509\n",
            "\n",
            "\n",
            "Iteración: 1000, Error: 2.376405\n",
            "\n",
            "\n",
            "Iteración: 2000, Error: 2.242462\n",
            "\n",
            "\n",
            "Iteración: 3000, Error: 2.166930\n",
            "\n",
            "\n",
            "Iteración: 4000, Error: 2.195627\n",
            "\n",
            "\n",
            "Iteración: 5000, Error: 2.148282\n",
            "\n",
            "\n",
            "Iteración: 6000, Error: 2.126395\n",
            "\n",
            "\n",
            "Iteración: 7000, Error: 2.226522\n",
            "\n",
            "\n",
            "Iteración: 8000, Error: 2.183288\n",
            "\n",
            "\n",
            "Iteración: 9000, Error: 2.157118\n",
            "\n"
          ]
        }
      ]
    },
    {
      "cell_type": "code",
      "metadata": {
        "id": "4FeuWGKFzr1z"
      },
      "source": [
        "def generar_nombre(modelo,char_to_ind,tam_alfabeto,n_a):\n",
        "    # Inicializar x y a con ceros\n",
        "    x = np.zeros((1,1,tam_alfabeto,))\n",
        "    a = np.zeros((1, n_a))\n",
        "\n",
        "    # Nombre generado y caracter de fin de linea\n",
        "    nombre_generado = ''\n",
        "    fin_linea = '\\n'\n",
        "    car = -1\n",
        "\n",
        "    # Iterar sobre el modelo y generar predicción hasta tanto no se alcance\n",
        "    # \"fin_linea\" o el nombre generado llegue a los 50 caracteres\n",
        "    contador = 0\n",
        "    while (car != fin_linea and contador != 50):\n",
        "          # Generar predicción usando la celda RNN\n",
        "          a, _ = recurrent_layer(K.constant(x), initial_state=K.constant(a))\n",
        "          y = output_layer(a)\n",
        "          prediccion = K.eval(y)\n",
        "\n",
        "          # Escoger aleatoriamente un elemento de la predicción (el elemento con\n",
        "          # con probabilidad más alta tendrá más opciones de ser seleccionado)\n",
        "          ix = np.random.choice(list(range(tam_alfabeto)),p=prediccion.ravel())\n",
        "\n",
        "          # Convertir el elemento seleccionado a caracter y añadirlo al nombre generado\n",
        "          car = ind_to_char[ix]\n",
        "          nombre_generado += car\n",
        "\n",
        "          # Crear x_(t+1) = y_t, y a_t = a_(t-1)\n",
        "          x = to_categorical(ix,tam_alfabeto).reshape(1,1,tam_alfabeto)\n",
        "          a = K.eval(a)\n",
        "\n",
        "          # Actualizar contador y continuar\n",
        "          contador += 1\n",
        "\n",
        "          # Agregar fin de línea al nombre generado en caso de tener más de 50 caracteres\n",
        "          if (contador == 10):\n",
        "            nombre_generado += '\\n'\n",
        "\n",
        "    print(nombre_generado)"
      ],
      "id": "4FeuWGKFzr1z",
      "execution_count": 29,
      "outputs": []
    },
    {
      "cell_type": "code",
      "metadata": {
        "id": "extensive-tract",
        "colab": {
          "base_uri": "https://localhost:8080/"
        },
        "outputId": "3fbae4a6-b60d-452a-9c89-3968d0992912"
      },
      "source": [
        "for i in range(10):\n",
        "    generar_nombre(model,char_to_ind,tam_alfabeto,n_a)"
      ],
      "id": "extensive-tract",
      "execution_count": 32,
      "outputs": [
        {
          "output_type": "stream",
          "name": "stdout",
          "text": [
            "ksadrarusa\n",
            "bgsaycadhos\n",
            "\n",
            "epheruruna\n",
            "upaus\n",
            "\n",
            "lusitralto\n",
            "ruxausausallmaytishol\n",
            "\n",
            "corusas\n",
            "\n",
            "gaceriausa\n",
            "usanauianhurisagtodphos\n",
            "\n",
            "sausapusia\n",
            "utofliankieptoptytaykarpcha\n",
            "\n",
            "xhospbopel\n",
            "evimerulus\n",
            "\n",
            "papsataura\n",
            "uromurapusaldhulusadiopisatrya\n",
            "\n",
            "satmodurau\n",
            "sauraiiachaschaustenpamiora\n",
            "\n",
            "asipos\n",
            "\n"
          ]
        }
      ]
    }
  ]
}